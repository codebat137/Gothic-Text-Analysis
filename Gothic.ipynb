{
 "cells": [
  {
   "cell_type": "code",
   "execution_count": 1,
   "metadata": {},
   "outputs": [],
   "source": [
    "import nltk\n",
    "import numpy as np\n",
    "import pandas as pd\n",
    "import matplotlib.pyplot as plt\n",
    "%matplotlib inline\n",
    "plt.style.use('ggplot')\n",
    "plt.rcParams['figure.figsize'] = (15,8)"
   ]
  },
  {
   "cell_type": "code",
   "execution_count": 2,
   "metadata": {},
   "outputs": [],
   "source": [
    "import os"
   ]
  },
  {
   "cell_type": "code",
   "execution_count": 3,
   "metadata": {},
   "outputs": [
    {
     "name": "stdout",
     "output_type": "stream",
     "text": [
      "doriangray.txt\n",
      "castleofotranto.txt\n",
      "dracula.txt\n",
      "drjekyllmrhyde.txt\n",
      "wutheringheights.txt\n",
      "frankenstein.txt\n",
      "janeeyre.txt\n",
      "phantomoftheopera.txt\n"
     ]
    }
   ],
   "source": [
    "lis = []\n",
    "file = []\n",
    "directory = './txt/'\n",
    "for filename in os.listdir(directory):\n",
    "    print(filename)\n",
    "    lis.append(filename)\n",
    "    file.append(open(directory+filename,'r').read().splitlines())"
   ]
  },
  {
   "cell_type": "code",
   "execution_count": 4,
   "metadata": {},
   "outputs": [
    {
     "data": {
      "text/plain": [
       "['CHAPTER 1',\n",
       " '',\n",
       " 'The studio was filled with the rich odour of roses, and when the light',\n",
       " 'summer wind stirred amidst the trees of the garden, there came through',\n",
       " 'the open door the heavy scent of the lilac, or the more delicate',\n",
       " 'perfume of the pink-flowering thorn.',\n",
       " '',\n",
       " 'From the corner of the divan of Persian saddle-bags on which he was',\n",
       " 'lying, smoking, as was his custom, innumerable cigarettes, Lord Henry',\n",
       " 'Wotton could just catch the gleam of the honey-sweet and honey-coloured']"
      ]
     },
     "execution_count": 4,
     "metadata": {},
     "output_type": "execute_result"
    }
   ],
   "source": [
    "file[0][:10]"
   ]
  },
  {
   "cell_type": "code",
   "execution_count": 5,
   "metadata": {},
   "outputs": [
    {
     "data": {
      "text/plain": [
       "'doriangray.txt'"
      ]
     },
     "execution_count": 5,
     "metadata": {},
     "output_type": "execute_result"
    }
   ],
   "source": [
    "lis[0]"
   ]
  },
  {
   "cell_type": "code",
   "execution_count": 6,
   "metadata": {},
   "outputs": [
    {
     "data": {
      "text/plain": [
       "['the',\n",
       " 'studio',\n",
       " 'was',\n",
       " 'filled',\n",
       " 'with',\n",
       " 'the',\n",
       " 'rich',\n",
       " 'odour',\n",
       " 'of',\n",
       " 'roses,']"
      ]
     },
     "execution_count": 6,
     "metadata": {},
     "output_type": "execute_result"
    }
   ],
   "source": [
    "dorian_gray = []\n",
    "for item in file[0]:\n",
    "    if item=='' or 'CHAPTER' in item:\n",
    "        continue\n",
    "    for word in item.split(' '):\n",
    "        if word != '':\n",
    "            dorian_gray.append(word.lower())\n",
    "dorian_gray[:10]"
   ]
  },
  {
   "cell_type": "code",
   "execution_count": 7,
   "metadata": {},
   "outputs": [],
   "source": [
    "wordFreq = {}\n",
    "for word in dorian_gray:\n",
    "    curr = wordFreq.get(word,0)\n",
    "    wordFreq[word] = curr+1"
   ]
  },
  {
   "cell_type": "code",
   "execution_count": 8,
   "metadata": {},
   "outputs": [
    {
     "data": {
      "text/plain": [
       "2092"
      ]
     },
     "execution_count": 8,
     "metadata": {},
     "output_type": "execute_result"
    }
   ],
   "source": [
    "wordFreq['and']"
   ]
  },
  {
   "cell_type": "code",
   "execution_count": 9,
   "metadata": {},
   "outputs": [
    {
     "data": {
      "text/plain": [
       "2092"
      ]
     },
     "execution_count": 9,
     "metadata": {},
     "output_type": "execute_result"
    }
   ],
   "source": [
    "freq = nltk.FreqDist(dorian_gray)\n",
    "freq['and']"
   ]
  },
  {
   "cell_type": "code",
   "execution_count": 10,
   "metadata": {},
   "outputs": [
    {
     "data": {
      "text/plain": [
       "[('the', 3696),\n",
       " ('of', 2134),\n",
       " ('and', 2092),\n",
       " ('to', 2004),\n",
       " ('a', 1641),\n",
       " ('he', 1498),\n",
       " ('i', 1385),\n",
       " ('that', 1185),\n",
       " ('in', 1168),\n",
       " ('you', 1078),\n",
       " ('was', 1033),\n",
       " ('his', 980),\n",
       " ('it', 976),\n",
       " ('is', 830),\n",
       " ('had', 818),\n",
       " ('with', 649),\n",
       " ('as', 565),\n",
       " ('for', 563),\n",
       " ('have', 549),\n",
       " ('at', 543)]"
      ]
     },
     "execution_count": 10,
     "metadata": {},
     "output_type": "execute_result"
    }
   ],
   "source": [
    "top20 = freq.most_common(20)\n",
    "top20"
   ]
  },
  {
   "cell_type": "code",
   "execution_count": 11,
   "metadata": {},
   "outputs": [
    {
     "data": {
      "text/plain": [
       "<BarContainer object of 20 artists>"
      ]
     },
     "execution_count": 11,
     "metadata": {},
     "output_type": "execute_result"
    },
    {
     "data": {
      "image/png": "[encoded data removed]",
      "text/plain": [
       "<Figure size 1080x576 with 1 Axes>"
      ]
     },
     "metadata": {},
     "output_type": "display_data"
    }
   ],
   "source": [
    "plt.bar([val[0] for val in top20],[val[1] for val in top20])"
   ]
  },
  {
   "cell_type": "code",
   "execution_count": 12,
   "metadata": {},
   "outputs": [],
   "source": [
    "pos_dorian = nltk.pos_tag(wordFreq.keys())"
   ]
  },
  {
   "cell_type": "code",
   "execution_count": 13,
   "metadata": {},
   "outputs": [
    {
     "data": {
      "text/plain": [
       "[('the', 'DT'),\n",
       " ('studio', 'NN'),\n",
       " ('was', 'VBD'),\n",
       " ('filled', 'VBN'),\n",
       " ('with', 'IN'),\n",
       " ('rich', 'JJ'),\n",
       " ('odour', 'NN'),\n",
       " ('of', 'IN'),\n",
       " ('roses,', 'NN'),\n",
       " ('and', 'CC')]"
      ]
     },
     "execution_count": 13,
     "metadata": {},
     "output_type": "execute_result"
    }
   ],
   "source": [
    "pos_dorian[:10]"
   ]
  },
  {
   "cell_type": "code",
   "execution_count": 14,
   "metadata": {},
   "outputs": [],
   "source": [
    "adj = {}\n",
    "for tag in pos_dorian:\n",
    "    if tag[1]!='JJ':\n",
    "        continue\n",
    "    adj[tag[0]] = wordFreq[tag[0]]"
   ]
  },
  {
   "cell_type": "code",
   "execution_count": 15,
   "metadata": {},
   "outputs": [],
   "source": [
    "sort_adj = sorted(adj.items(), key=lambda x: x[1], reverse=True)"
   ]
  },
  {
   "cell_type": "code",
   "execution_count": 16,
   "metadata": {},
   "outputs": [],
   "source": [
    "top20 = sort_adj[:20]"
   ]
  },
  {
   "cell_type": "code",
   "execution_count": 17,
   "metadata": {},
   "outputs": [
    {
     "data": {
      "text/plain": [
       "<BarContainer object of 20 artists>"
      ]
     },
     "execution_count": 17,
     "metadata": {},
     "output_type": "execute_result"
    },
    {
     "data": {
      "image/png": "[encoded data removed]",
      "text/plain": [
       "<Figure size 1080x576 with 1 Axes>"
      ]
     },
     "metadata": {},
     "output_type": "display_data"
    }
   ],
   "source": [
    "plt.bar([val[0] for val in top20],[val[1] for val in top20])"
   ]
  },
  {
   "cell_type": "code",
   "execution_count": 18,
   "metadata": {},
   "outputs": [],
   "source": [
    "def first20(path,pos = 'JJ'):\n",
    "    \"\"\"\n",
    "    Take 20 most ocuured words of any of\n",
    "    parts of speech inn a novel and plot it.\n",
    "    Default parts of speech is Adjective\n",
    "    \"\"\"\n",
    "    file = open(path,'r').read().splitlines()\n",
    "    novel = []\n",
    "    for item in file:\n",
    "        if item=='' or 'CHAPTER' in item:\n",
    "            continue\n",
    "        for word in item.split(' '):\n",
    "            if len(word)>0:\n",
    "                novel.append(word)\n",
    "                \n",
    "                \n",
    "    uniqWord = {}\n",
    "    \n",
    "    for word in novel:\n",
    "        uniqWord[word] = 1\n",
    "        \n",
    "    freq = nltk.FreqDist(novel)\n",
    "    pos_novel = nltk.pos_tag(uniqWord.keys())\n",
    "    \n",
    "    dic = {}\n",
    "    for tag in pos_novel:\n",
    "        if tag[1]!=pos:\n",
    "            continue\n",
    "        dic[tag[0]] = freq[tag[0]]\n",
    "        \n",
    "    sort_dic = sorted(dic.items(), key=lambda x: x[1], reverse=True)\n",
    "    f20 = sort_dic[:20]\n",
    "    plt.bar([val[0] for val in f20],[val[1] for val in f20])\n",
    "    \n",
    "    "
   ]
  },
  {
   "cell_type": "code",
   "execution_count": 19,
   "metadata": {},
   "outputs": [
    {
     "data": {
      "image/png": "[encoded data removed]",
      "text/plain": [
       "<Figure size 1080x576 with 1 Axes>"
      ]
     },
     "metadata": {},
     "output_type": "display_data"
    }
   ],
   "source": [
    "#top 20 adjectives in jane eyre \n",
    "first20('txt/janeeyre.txt')"
   ]
  },
  {
   "cell_type": "code",
   "execution_count": 20,
   "metadata": {},
   "outputs": [
    {
     "data": {
      "image/png": "[encoded data removed]",
      "text/plain": [
       "<Figure size 1080x576 with 1 Axes>"
      ]
     },
     "metadata": {},
     "output_type": "display_data"
    }
   ],
   "source": [
    "#top 20 conjunctions in jane eyre \n",
    "first20('txt/janeeyre.txt',pos = 'IN')"
   ]
  },
  {
   "cell_type": "code",
   "execution_count": null,
   "metadata": {},
   "outputs": [],
   "source": []
  }
 ],
 "metadata": {
  "kernelspec": {
   "display_name": "Python 3",
   "language": "python",
   "name": "python3"
  },
  "language_info": {
   "codemirror_mode": {
    "name": "ipython",
    "version": 3
   },
   "file_extension": ".py",
   "mimetype": "text/x-python",
   "name": "python",
   "nbconvert_exporter": "python",
   "pygments_lexer": "ipython3",
   "version": "3.7.5"
  }
 },
 "nbformat": 4,
 "nbformat_minor": 4
}
